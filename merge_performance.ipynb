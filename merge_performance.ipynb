{
 "cells": [
  {
   "cell_type": "markdown",
   "metadata": {},
   "source": [
    "# Intro\n",
    "Benchmarking the performance of merges. "
   ]
  },
  {
   "cell_type": "code",
   "execution_count": 1,
   "metadata": {},
   "outputs": [],
   "source": [
    "import pandas\n",
    "import numpy\n",
    "import matplotlib.pyplot as plt\n",
    "import timeit"
   ]
  },
  {
   "cell_type": "code",
   "execution_count": 2,
   "metadata": {},
   "outputs": [
    {
     "data": {
      "text/plain": [
       "('0.25.3', '1.17.3')"
      ]
     },
     "execution_count": 2,
     "metadata": {},
     "output_type": "execute_result"
    }
   ],
   "source": [
    "pandas.__version__, numpy.__version__"
   ]
  },
  {
   "cell_type": "code",
   "execution_count": 3,
   "metadata": {},
   "outputs": [],
   "source": [
    "def generate_dataframes(N:int, set_index: bool, type_def: str, duplicates:float):\n",
    "    \n",
    "    numpy.random.seed(11)\n",
    "    if duplicates >0:\n",
    "        sample = int((1-duplicates)*N)+1\n",
    "        array_1 = numpy.random.choice(sample, N, replace=True)\n",
    "    else:\n",
    "        array_1 = numpy.arange(N)\n",
    "        numpy.random.shuffle(array_1) # shuffle works in-place\n",
    "        \n",
    "    df_1 = pandas.DataFrame(array_1, columns=[\"A\"])\n",
    "    df_1[\"B\"] = df_1[\"A\"]*2\n",
    "\n",
    "    array_2 = array_1.copy()\n",
    "    numpy.random.shuffle(array_2)\n",
    "    df_2 = pandas.DataFrame(array_2, columns=[\"A\"])\n",
    "    df_2[\"B\"] = df_2[\"A\"]*2\n",
    "    \n",
    "    if type_def == \"datetime\":\n",
    "        df_1[\"A\"] = pandas.to_datetime(df_1[\"A\"])\n",
    "        df_2[\"A\"] = pandas.to_datetime(df_2[\"A\"])\n",
    "    else:\n",
    "        df_1[\"A\"] =df_1[\"A\"].astype(type_def)\n",
    "        df_2[\"A\"] =df_2[\"A\"].astype(type_def)\n",
    "    \n",
    "    if set_index:\n",
    "        df_1 = df_1.set_index(\"A\")\n",
    "        df_2 = df_2.set_index(\"A\")\n",
    "    \n",
    "    return df_1, df_2\n",
    "\n",
    "def get_time(df_1: pandas.DataFrame, df_2: pandas.DataFrame, indexed: bool):\n",
    "    if indexed:\n",
    "        time_result = %timeit -o df_1.merge(df_2, how=\"left\", left_index=True, right_index=True)\n",
    "    else:\n",
    "        time_result = %timeit -o df_1.merge(df_2, how=\"left\", left_on=\"A\", right_on=\"A\")\n",
    "    return time_result.average\n",
    "\n",
    "def profile(df_1: pandas.DataFrame, df_2: pandas.DataFrame, indexed: bool):\n",
    "    if indexed:\n",
    "        df_1.merge(df_2, how=\"left\", left_index=True, right_index=True)\n",
    "    else:\n",
    "        df_1.merge(df_2, how=\"left\", left_on=\"A\", right_on=\"A\")"
   ]
  },
  {
   "cell_type": "code",
   "execution_count": 4,
   "metadata": {},
   "outputs": [
    {
     "name": "stdout",
     "output_type": "stream",
     "text": [
      "1.78 ms ± 105 µs per loop (mean ± std. dev. of 7 runs, 1000 loops each)\n",
      "1.85 ms ± 139 µs per loop (mean ± std. dev. of 7 runs, 100 loops each)\n",
      "1.77 ms ± 38.3 µs per loop (mean ± std. dev. of 7 runs, 1000 loops each)\n",
      "1.92 ms ± 37.4 µs per loop (mean ± std. dev. of 7 runs, 1000 loops each)\n",
      "3.07 ms ± 23.3 µs per loop (mean ± std. dev. of 7 runs, 100 loops each)\n",
      "28.6 ms ± 420 µs per loop (mean ± std. dev. of 7 runs, 10 loops each)\n",
      "504 ms ± 5.36 ms per loop (mean ± std. dev. of 7 runs, 1 loop each)\n",
      "6.98 s ± 113 ms per loop (mean ± std. dev. of 7 runs, 1 loop each)\n",
      "1min 28s ± 2.99 s per loop (mean ± std. dev. of 7 runs, 1 loop each)\n",
      "430 µs ± 3.94 µs per loop (mean ± std. dev. of 7 runs, 1000 loops each)\n",
      "534 µs ± 8.34 µs per loop (mean ± std. dev. of 7 runs, 1000 loops each)\n",
      "532 µs ± 3.14 µs per loop (mean ± std. dev. of 7 runs, 1000 loops each)\n",
      "564 µs ± 21.1 µs per loop (mean ± std. dev. of 7 runs, 1000 loops each)\n",
      "708 µs ± 35.8 µs per loop (mean ± std. dev. of 7 runs, 1000 loops each)\n",
      "2.46 ms ± 96.5 µs per loop (mean ± std. dev. of 7 runs, 100 loops each)\n",
      "67.7 ms ± 805 µs per loop (mean ± std. dev. of 7 runs, 10 loops each)\n",
      "1.01 s ± 9.88 ms per loop (mean ± std. dev. of 7 runs, 1 loop each)\n",
      "16.6 s ± 150 ms per loop (mean ± std. dev. of 7 runs, 1 loop each)\n"
     ]
    }
   ],
   "source": [
    "#1. Compare performance of merge for various sizes when joining on index vs not on index\n",
    "sizes = [1,10,100,1_000, 10_000, 100_000, 1_000_000, 10_000_000, 100_000_000] \n",
    "\n",
    "dfs = [generate_dataframes(N, False, \"int\", duplicates=0) for N in sizes]\n",
    "time_by_size = [get_time(df_1, df_2, False) for (df_1, df_2) in dfs]\n",
    "\n",
    "dfs_indexed = [generate_dataframes(N, True, \"int\", duplicates=0) for N in sizes]\n",
    "time_by_size_indexed = [get_time(df_1, df_2, True) for (df_1, df_2) in dfs_indexed]"
   ]
  },
  {
   "cell_type": "code",
   "execution_count": 5,
   "metadata": {},
   "outputs": [
    {
     "data": {
      "image/png": "[encoded data removed]",
      "text/plain": [
       "<Figure size 432x288 with 1 Axes>"
      ]
     },
     "metadata": {
      "needs_background": "light"
     },
     "output_type": "display_data"
    }
   ],
   "source": [
    "# plot results\n",
    "fig, ax = plt.subplots()\n",
    "ax.plot(sizes, time_by_size, 'o', label=\"not on index\")\n",
    "ax.plot(sizes, time_by_size_indexed, 'o', label=\"on index\")\n",
    "ax.set_xlabel(\"number of rows\")\n",
    "ax.set_ylabel(\"time (s)\")\n",
    "ax.set_xscale(\"log\")\n",
    "ax.set_yscale(\"log\")\n",
    "ax.legend()\n",
    "fig.savefig(\"merge-performance-by-size.png\")\n",
    "fig.savefig(\"merge-performance-by-size.svg\")"
   ]
  },
  {
   "cell_type": "code",
   "execution_count": 6,
   "metadata": {},
   "outputs": [
    {
     "name": "stdout",
     "output_type": "stream",
     "text": [
      "508 ms ± 4.64 ms per loop (mean ± std. dev. of 7 runs, 1 loop each)\n",
      "850 ms ± 20 ms per loop (mean ± std. dev. of 7 runs, 1 loop each)\n",
      "499 ms ± 3.52 ms per loop (mean ± std. dev. of 7 runs, 1 loop each)\n",
      "1.2 s ± 24.9 ms per loop (mean ± std. dev. of 7 runs, 1 loop each)\n",
      "652 ms ± 32 ms per loop (mean ± std. dev. of 7 runs, 1 loop each)\n",
      "998 ms ± 11.6 ms per loop (mean ± std. dev. of 7 runs, 1 loop each)\n",
      "58.2 ms ± 556 µs per loop (mean ± std. dev. of 7 runs, 10 loops each)\n",
      "223 ms ± 4.34 ms per loop (mean ± std. dev. of 7 runs, 1 loop each)\n",
      "70.5 ms ± 644 µs per loop (mean ± std. dev. of 7 runs, 10 loops each)\n",
      "336 ms ± 2.37 ms per loop (mean ± std. dev. of 7 runs, 1 loop each)\n",
      "2.28 s ± 13.3 ms per loop (mean ± std. dev. of 7 runs, 1 loop each)\n",
      "82.8 ms ± 2.22 ms per loop (mean ± std. dev. of 7 runs, 1 loop each)\n"
     ]
    }
   ],
   "source": [
    "#2. Compare performance of merging on different dtypes (on index vs not on index)\n",
    "type_defs = [\"datetime\", pandas.Int64Dtype(), \"int\", \"str\", \"category\", \"float\"]\n",
    "dfs = [generate_dataframes(1_000_000, False, type_def, duplicates=0) for type_def in type_defs]\n",
    "time_by_type = [get_time(df_1, df_2, False) for (df_1, df_2) in dfs]\n",
    "\n",
    "dfs = [generate_dataframes(1_000_000, True, type_def, duplicates=0) for type_def in type_defs]\n",
    "time_by_type_indexed = [get_time(df_1, df_2, True) for (df_1, df_2) in dfs]\n",
    "type_defs = [\"datetime\", \"nullable-int\", \"int\", \"str\", \"category\", \"float\"]"
   ]
  },
  {
   "cell_type": "code",
   "execution_count": 8,
   "metadata": {},
   "outputs": [
    {
     "data": {
      "image/png": "[encoded data removed]",
      "text/plain": [
       "<Figure size 432x288 with 1 Axes>"
      ]
     },
     "metadata": {
      "needs_background": "light"
     },
     "output_type": "display_data"
    }
   ],
   "source": [
    "fig, ax = plt.subplots()\n",
    "ax.plot(type_defs, time_by_type, 'o', label=\"not on index\")\n",
    "ax.plot(type_defs, time_by_type_indexed, 'o', label=\"on index\")\n",
    "ax.set_xlabel(\"dtype\")\n",
    "ax.set_ylabel(\"time (s)\")\n",
    "ax.set_yscale(\"log\")\n",
    "ax.legend()\n",
    "fig.savefig(\"merge-performance-by-type.png\")\n",
    "fig.savefig(\"merge-performance-by-type.svg\")"
   ]
  },
  {
   "cell_type": "code",
   "execution_count": 9,
   "metadata": {},
   "outputs": [
    {
     "name": "stdout",
     "output_type": "stream",
     "text": [
      "514 ms ± 14.9 ms per loop (mean ± std. dev. of 7 runs, 1 loop each)\n",
      "583 ms ± 17.5 ms per loop (mean ± std. dev. of 7 runs, 1 loop each)\n",
      "600 ms ± 22.3 ms per loop (mean ± std. dev. of 7 runs, 1 loop each)\n",
      "611 ms ± 15 ms per loop (mean ± std. dev. of 7 runs, 1 loop each)\n",
      "583 ms ± 8.42 ms per loop (mean ± std. dev. of 7 runs, 1 loop each)\n",
      "663 ms ± 15.7 ms per loop (mean ± std. dev. of 7 runs, 1 loop each)\n",
      "940 ms ± 99.8 ms per loop (mean ± std. dev. of 7 runs, 1 loop each)\n",
      "1.39 s ± 105 ms per loop (mean ± std. dev. of 7 runs, 1 loop each)\n",
      "2.28 s ± 164 ms per loop (mean ± std. dev. of 7 runs, 1 loop each)\n",
      "70.8 ms ± 3.63 ms per loop (mean ± std. dev. of 7 runs, 10 loops each)\n",
      "965 ms ± 103 ms per loop (mean ± std. dev. of 7 runs, 1 loop each)\n",
      "999 ms ± 95.3 ms per loop (mean ± std. dev. of 7 runs, 1 loop each)\n",
      "976 ms ± 76.4 ms per loop (mean ± std. dev. of 7 runs, 1 loop each)\n",
      "953 ms ± 43.4 ms per loop (mean ± std. dev. of 7 runs, 1 loop each)\n",
      "789 ms ± 83.1 ms per loop (mean ± std. dev. of 7 runs, 1 loop each)\n",
      "812 ms ± 41.5 ms per loop (mean ± std. dev. of 7 runs, 1 loop each)\n",
      "1.01 s ± 27.6 ms per loop (mean ± std. dev. of 7 runs, 1 loop each)\n",
      "1.47 s ± 75.1 ms per loop (mean ± std. dev. of 7 runs, 1 loop each)\n"
     ]
    }
   ],
   "source": [
    "#3. performance depending on duplicate amount (proportion)\n",
    "duplicates = [0,0.05, 0.1, 0.2,0.4,0.6, 0.8, 0.9, 0.95]\n",
    "\n",
    "dfs = [generate_dataframes(1_000_000, False, \"int\", duplicates=d) for d in duplicates]\n",
    "time_by_duplicates = [get_time(df_1, df_2, False) for (df_1, df_2) in dfs]\n",
    "\n",
    "dfs_indexed = [generate_dataframes(1_000_000, True, \"int\", duplicates=d) for d in duplicates]\n",
    "time_by_duplicates_indexed = [get_time(df_1, df_2, True) for (df_1, df_2) in dfs_indexed]"
   ]
  },
  {
   "cell_type": "code",
   "execution_count": 21,
   "metadata": {},
   "outputs": [
    {
     "data": {
      "image/png": "[encoded data removed]",
      "text/plain": [
       "<Figure size 432x288 with 1 Axes>"
      ]
     },
     "metadata": {
      "needs_background": "light"
     },
     "output_type": "display_data"
    }
   ],
   "source": [
    "fig, ax = plt.subplots()\n",
    "ax.plot(duplicates, time_by_duplicates, 'o', label=\"not on index\")\n",
    "ax.plot(duplicates, time_by_duplicates_indexed, 'o', label=\"on index\")\n",
    "ax.set_xlabel(\"duplicate density\")\n",
    "ax.set_ylabel(\"time (s)\")\n",
    "ax.set_yscale(\"log\")\n",
    "ax.legend()\n",
    "fig.savefig(\"merge-performance-by-duplicate.png\")\n",
    "fig.savefig(\"merge-performance-by-duplicate.svg\")"
   ]
  },
  {
   "cell_type": "code",
   "execution_count": 15,
   "metadata": {},
   "outputs": [
    {
     "name": "stdout",
     "output_type": "stream",
     "text": [
      "66.8 ms ± 2.06 ms per loop (mean ± std. dev. of 7 runs, 10 loops each)\n"
     ]
    },
    {
     "data": {
      "text/plain": [
       "0.06684142000001105"
      ]
     },
     "execution_count": 15,
     "metadata": {},
     "output_type": "execute_result"
    }
   ],
   "source": [
    "#4. Sorted vs unsorted\n",
    "# (unsorted)\n",
    "df_1, df_2 = generate_dataframes(1_000_000, True, \"int\", duplicates=0)\n",
    "get_time(df_1, df_2, True)"
   ]
  },
  {
   "cell_type": "code",
   "execution_count": 16,
   "metadata": {},
   "outputs": [
    {
     "name": "stdout",
     "output_type": "stream",
     "text": [
      "7.02 ms ± 343 µs per loop (mean ± std. dev. of 7 runs, 100 loops each)\n"
     ]
    },
    {
     "data": {
      "text/plain": [
       "0.007017911428570838"
      ]
     },
     "execution_count": 16,
     "metadata": {},
     "output_type": "execute_result"
    }
   ],
   "source": [
    "# sorted dfs merge much faster...\n",
    "df_1, df_2 = generate_dataframes(1_000_000, True, \"int\", duplicates=0)\n",
    "df_1 = df_1.sort_values(\"A\", ascending=True)\n",
    "df_2 = df_2.sort_values(\"A\", ascending=True)\n",
    "get_time(df_1, df_2, True)"
   ]
  },
  {
   "cell_type": "code",
   "execution_count": 17,
   "metadata": {},
   "outputs": [
    {
     "name": "stdout",
     "output_type": "stream",
     "text": [
      "44.9 ms ± 1.73 ms per loop (mean ± std. dev. of 7 runs, 10 loops each)\n"
     ]
    },
    {
     "data": {
      "text/plain": [
       "0.04490464285714292"
      ]
     },
     "execution_count": 17,
     "metadata": {},
     "output_type": "execute_result"
    }
   ],
   "source": [
    "df_1, df_2 = generate_dataframes(1_000_000, True, \"int\", duplicates=0)\n",
    "df_1 = df_1.sort_values(\"A\", ascending=True)\n",
    "get_time(df_1, df_2, True)"
   ]
  },
  {
   "cell_type": "code",
   "execution_count": 18,
   "metadata": {},
   "outputs": [
    {
     "name": "stdout",
     "output_type": "stream",
     "text": [
      "1.83 ms ± 100 µs per loop (mean ± std. dev. of 7 runs, 1000 loops each)\n",
      "1.97 ms ± 141 µs per loop (mean ± std. dev. of 7 runs, 100 loops each)\n",
      "1.94 ms ± 35.2 µs per loop (mean ± std. dev. of 7 runs, 1000 loops each)\n",
      "1.99 ms ± 124 µs per loop (mean ± std. dev. of 7 runs, 100 loops each)\n",
      "3.22 ms ± 84.2 µs per loop (mean ± std. dev. of 7 runs, 100 loops each)\n",
      "35.4 ms ± 8.64 ms per loop (mean ± std. dev. of 7 runs, 10 loops each)\n",
      "545 ms ± 29.3 ms per loop (mean ± std. dev. of 7 runs, 1 loop each)\n",
      "7.71 s ± 552 ms per loop (mean ± std. dev. of 7 runs, 1 loop each)\n",
      "1.76 ms ± 84.4 µs per loop (mean ± std. dev. of 7 runs, 1000 loops each)\n",
      "1.78 ms ± 72.2 µs per loop (mean ± std. dev. of 7 runs, 1000 loops each)\n",
      "1.95 ms ± 197 µs per loop (mean ± std. dev. of 7 runs, 1000 loops each)\n",
      "2.03 ms ± 294 µs per loop (mean ± std. dev. of 7 runs, 100 loops each)\n",
      "2.88 ms ± 54.8 µs per loop (mean ± std. dev. of 7 runs, 100 loops each)\n",
      "27.8 ms ± 1.34 ms per loop (mean ± std. dev. of 7 runs, 10 loops each)\n",
      "414 ms ± 22.6 ms per loop (mean ± std. dev. of 7 runs, 1 loop each)\n",
      "4.65 s ± 56.9 ms per loop (mean ± std. dev. of 7 runs, 1 loop each)\n",
      "434 µs ± 951 ns per loop (mean ± std. dev. of 7 runs, 1000 loops each)\n",
      "542 µs ± 6.17 µs per loop (mean ± std. dev. of 7 runs, 1000 loops each)\n",
      "556 µs ± 6.6 µs per loop (mean ± std. dev. of 7 runs, 1000 loops each)\n",
      "571 µs ± 11.1 µs per loop (mean ± std. dev. of 7 runs, 1000 loops each)\n",
      "747 µs ± 66.2 µs per loop (mean ± std. dev. of 7 runs, 1000 loops each)\n",
      "2.77 ms ± 581 µs per loop (mean ± std. dev. of 7 runs, 100 loops each)\n",
      "108 ms ± 45.8 ms per loop (mean ± std. dev. of 7 runs, 1 loop each)\n",
      "858 ms ± 10.5 ms per loop (mean ± std. dev. of 7 runs, 1 loop each)\n",
      "436 µs ± 1.91 µs per loop (mean ± std. dev. of 7 runs, 1000 loops each)\n",
      "444 µs ± 6.64 µs per loop (mean ± std. dev. of 7 runs, 1000 loops each)\n",
      "439 µs ± 5.68 µs per loop (mean ± std. dev. of 7 runs, 1000 loops each)\n",
      "450 µs ± 16.4 µs per loop (mean ± std. dev. of 7 runs, 1000 loops each)\n",
      "467 µs ± 5.79 µs per loop (mean ± std. dev. of 7 runs, 1000 loops each)\n",
      "654 µs ± 54.3 µs per loop (mean ± std. dev. of 7 runs, 1000 loops each)\n",
      "6.84 ms ± 155 µs per loop (mean ± std. dev. of 7 runs, 100 loops each)\n",
      "80.6 ms ± 14.2 ms per loop (mean ± std. dev. of 7 runs, 1 loop each)\n"
     ]
    }
   ],
   "source": [
    "sizes = [1,10,100,1_000, 10_000, 100_000, 1_000_000, 10_000_000] \n",
    "\n",
    "dfs = [generate_dataframes(N, False, \"int\", duplicates=0) for N in sizes]\n",
    "time_by_size = [get_time(df_1, df_2, False) for (df_1, df_2) in dfs]\n",
    "\n",
    "dfs_sorted = [(df_1.copy().sort_values(\"A\", ascending=True),\n",
    "               df_2.copy().sort_values(\"A\", ascending=True)) for (df_1, df_2) in dfs]\n",
    "time_by_size_sorted = [get_time(df_1, df_2, False) for (df_1, df_2) in dfs_sorted]\n",
    "\n",
    "dfs_indexed = [generate_dataframes(N, True, \"int\", duplicates=0) for N in sizes]\n",
    "time_by_size_indexed = [get_time(df_1, df_2, True) for (df_1, df_2) in dfs_indexed]\n",
    "\n",
    "dfs_indexed_sorted = [(df_1.copy().sort_values(\"A\", ascending=True),\n",
    "                       df_2.copy().sort_values(\"A\", ascending=True)) for (df_1, df_2) in dfs_indexed]\n",
    "time_by_size_indexed_sorted = [get_time(df_1, df_2, True) for (df_1, df_2) in dfs_indexed_sorted]"
   ]
  },
  {
   "cell_type": "code",
   "execution_count": 23,
   "metadata": {},
   "outputs": [
    {
     "data": {
      "image/png": "[encoded data removed]",
      "text/plain": [
       "<Figure size 432x288 with 1 Axes>"
      ]
     },
     "metadata": {
      "needs_background": "light"
     },
     "output_type": "display_data"
    }
   ],
   "source": [
    "fig, ax = plt.subplots()\n",
    "ax.plot(sizes, time_by_size, 'o', label=\"not on index (not sorted)\")\n",
    "ax.plot(sizes, time_by_size_sorted, 'o', label=\"not on index (sorted)\")\n",
    "ax.plot(sizes, time_by_size_indexed, 'o', label=\"on index (not sorted)\")\n",
    "ax.plot(sizes, time_by_size_indexed_sorted, 'o', label=\"on index (sorted)\")\n",
    "ax.set_xlabel(\"number of rows\")\n",
    "ax.set_ylabel(\"time (s)\")\n",
    "ax.set_xscale(\"log\")\n",
    "ax.set_yscale(\"log\")\n",
    "ax.legend()\n",
    "fig.savefig(\"merge-performance-by-size-sorting.png\")\n",
    "fig.savefig(\"merge-performance-by-size-sorting.svg\")"
   ]
  },
  {
   "cell_type": "code",
   "execution_count": null,
   "metadata": {},
   "outputs": [],
   "source": [
    "# map vs merge - for small mapping tables using map is faster than join\n",
    "df_1, df_2 = generate_dataframes(1_000_000, False, \"int\", duplicates=0.999)\n",
    "df_3 = pandas.DataFrame([x for x in range(df_1[\"A\"].max()+1)], columns=[\"A\"])\n",
    "df_3[\"B\"]=[x*2 for x in range(df_1[\"A\"].max()+1)]\n",
    "mapping ={x:x*2 for x in range(df_1[\"A\"].max()+1)}"
   ]
  },
  {
   "cell_type": "code",
   "execution_count": null,
   "metadata": {},
   "outputs": [],
   "source": [
    "get_time(df_1, df_3, False)"
   ]
  },
  {
   "cell_type": "code",
   "execution_count": null,
   "metadata": {},
   "outputs": [],
   "source": [
    "%timeit df_1[\"A\"].map(mapping)"
   ]
  }
 ],
 "metadata": {
  "kernelspec": {
   "display_name": "Python 3",
   "language": "python",
   "name": "python3"
  },
  "language_info": {
   "codemirror_mode": {
    "name": "ipython",
    "version": 3
   },
   "file_extension": ".py",
   "mimetype": "text/x-python",
   "name": "python",
   "nbconvert_exporter": "python",
   "pygments_lexer": "ipython3",
   "version": "3.7.5"
  }
 },
 "nbformat": 4,
 "nbformat_minor": 4
}
